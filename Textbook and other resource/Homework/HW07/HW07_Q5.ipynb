{
 "cells": [
  {
   "cell_type": "code",
   "execution_count": 1,
   "metadata": {},
   "outputs": [],
   "source": [
    "# import packages needed\n",
    "from scipy import stats\n",
    "from statsmodels import tsa as TSA\n",
    "from statsmodels.tsa.arima.model import ARIMA\n",
    "from statsmodels.tsa.ar_model import AR\n",
    "from statsmodels.tsa.ar_model import AutoReg\n",
    "from statsmodels.tsa import arima_process as ARIMA_process\n",
    "from statsmodels.tsa.statespace.sarimax import SARIMAX\n",
    "from statsmodels.graphics.api import qqplot\n",
    "import itertools\n",
    "import matplotlib.pyplot as plt\n",
    "import numpy as np\n",
    "import pandas as pd\n",
    "import statsmodels.api as sm\n",
    "import warnings\n",
    "\n",
    "warnings.filterwarnings('ignore')"
   ]
  },
  {
   "cell_type": "markdown",
   "metadata": {},
   "source": [
    "# Q5\n",
    "(15%) Consider the famous time series data “co2” (monthly carbon dioxide through 11 years in Alert, Canada). \n",
    "<br>\n",
    "(a) Fit a deterministic regression model in terms of months and time. Are the regression coefficients significant? What is the adjusted R-squared? (Note that the month variable should be treated as categorical and transformed into 11 dummy variables.) \n",
    "<br>\n",
    "(b) Identify, estimate the SARIMA model for the co2 level.\n",
    "<br>\n",
    "(c) Compare the two models above, what do you observe?"
   ]
  },
  {
   "cell_type": "markdown",
   "metadata": {},
   "source": [
    "# Answers\n",
    "(a) According to the result produced below, the regression coefficient is not significant, with none of them surpass the critical values.\n",
    "<br>\n",
    "(b) Accoring our estimate, the best fir parameters are SARIMA(0, 1, 1)x(0, 1, 1, 12)12 With AIC:251.0908756777686.\n",
    "<br>\n",
    "(c) The SARIMA model we constructed has a AIC level of 251, with the OLS's AIC model at 774, so we could conclude that comparing to the linear regression model, our SARIMA model does have a better performance."
   ]
  },
  {
   "cell_type": "code",
   "execution_count": 2,
   "metadata": {},
   "outputs": [
    {
     "name": "stdout",
     "output_type": "stream",
     "text": [
      "     time_trend month  co2_level  month_num\n",
      "0   1994.000000   Jan     363.05          1\n",
      "1   1994.083333   Feb     364.18          2\n",
      "2   1994.166667   Mar     364.87          3\n",
      "3   1994.250000   Apr     364.47          4\n",
      "4   1994.333333   May     364.32          5\n",
      "5   1994.416667   Jun     362.13          6\n",
      "6   1994.500000   Jul     356.72          7\n",
      "7   1994.583333   Aug     350.88          8\n",
      "8   1994.666667   Sep     350.69          9\n",
      "9   1994.750000   Oct     356.06         10\n",
      "10  1994.833333   Nov     360.09         11\n",
      "11  1994.916667   Dec     363.27         12\n",
      "12  1995.000000   Jan     363.49          1\n",
      "13  1995.083333   Feb     364.94          2\n",
      "14  1995.166667   Mar     366.72          3\n",
      "15  1995.250000   Apr     366.33          4\n",
      "16  1995.333333   May     365.75          5\n",
      "17  1995.416667   Jun     364.32          6\n",
      "18  1995.500000   Jul     358.59          7\n",
      "19  1995.583333   Aug     352.06          8\n"
     ]
    }
   ],
   "source": [
    "data = pd.read_csv(\"./TSA HW07.co2.csv\")\n",
    "\n",
    "month_list = [\"Jan\", \"Feb\", \"Mar\", \"Apr\", \"May\", \"Jun\", \"Jul\", \"Aug\", \"Sep\", \"Oct\", \"Nov\", \"Dec\"]\n",
    "\n",
    "def monthNumCreator(x):\n",
    "    for index, value in enumerate(month_list):\n",
    "        if month_list[index] == x:\n",
    "            return int(index + 1)\n",
    "        \n",
    "# data preparation\n",
    "data.loc[:, 'month_num'] = data.loc[:, 'month'].apply(monthNumCreator)\n",
    "\n",
    "print(data.head(20))\n"
   ]
  },
  {
   "cell_type": "code",
   "execution_count": 3,
   "metadata": {},
   "outputs": [
    {
     "name": "stdout",
     "output_type": "stream",
     "text": [
      "                            OLS Regression Results                            \n",
      "==============================================================================\n",
      "Dep. Variable:              co2_level   R-squared:                       0.666\n",
      "Model:                            OLS   Adj. R-squared:                  0.661\n",
      "Method:                 Least Squares   F-statistic:                     128.5\n",
      "Date:                Sun, 06 Dec 2020   Prob (F-statistic):           1.98e-31\n",
      "Time:                        21:25:41   Log-Likelihood:                -384.14\n",
      "No. Observations:                 132   AIC:                             774.3\n",
      "Df Residuals:                     129   BIC:                             782.9\n",
      "Df Model:                           2                                         \n",
      "Covariance Type:            nonrobust                                         \n",
      "==============================================================================\n",
      "                 coef    std err          t      P>|t|      [0.025      0.975]\n",
      "------------------------------------------------------------------------------\n",
      "const      -3288.6451    247.245    -13.301      0.000   -3777.826   -2799.464\n",
      "time_trend     1.8321      0.124     14.812      0.000       1.587       2.077\n",
      "month_num     -0.8476      0.114     -7.450      0.000      -1.073      -0.622\n",
      "==============================================================================\n",
      "Omnibus:                        7.770   Durbin-Watson:                   0.863\n",
      "Prob(Omnibus):                  0.021   Jarque-Bera (JB):                7.540\n",
      "Skew:                          -0.533   Prob(JB):                       0.0231\n",
      "Kurtosis:                       2.516   Cond. No.                     1.26e+06\n",
      "==============================================================================\n",
      "\n",
      "Notes:\n",
      "[1] Standard Errors assume that the covariance matrix of the errors is correctly specified.\n",
      "[2] The condition number is large, 1.26e+06. This might indicate that there are\n",
      "strong multicollinearity or other numerical problems.\n"
     ]
    }
   ],
   "source": [
    "# fit a deterministic model\n",
    "\n",
    "X = sm.add_constant(data[[\"time_trend\", \"month_num\"]])\n",
    "y = data[\"co2_level\"]\n",
    "\n",
    "mod = sm.OLS(y, X)\n",
    "\n",
    "result = mod.fit()\n",
    "\n",
    "print(result.summary())"
   ]
  },
  {
   "cell_type": "code",
   "execution_count": 4,
   "metadata": {},
   "outputs": [
    {
     "name": "stdout",
     "output_type": "stream",
     "text": [
      "Examples of parameter for SARIMA...\n",
      "SARIMAX: (0, 0, 1) x (0, 0, 1, 12)\n",
      "SARIMAX: (0, 0, 1) x (0, 1, 0, 12)\n",
      "SARIMAX: (0, 1, 0) x (0, 1, 1, 12)\n",
      "SARIMAX: (0, 1, 0) x (1, 0, 0, 12)\n"
     ]
    }
   ],
   "source": [
    "p = d = q = range(0, 2)\n",
    "pdq = list(itertools.product(p, d, q))\n",
    "seasonal_pdq = [(x[0], x[1], x[2], 12) for x in list(itertools.product(p, d, q))]\n",
    "print('Examples of parameter for SARIMA...')\n",
    "print('SARIMAX: {} x {}'.format(pdq[1], seasonal_pdq[1]))\n",
    "print('SARIMAX: {} x {}'.format(pdq[1], seasonal_pdq[2]))\n",
    "print('SARIMAX: {} x {}'.format(pdq[2], seasonal_pdq[3]))\n",
    "print('SARIMAX: {} x {}'.format(pdq[2], seasonal_pdq[4]))"
   ]
  },
  {
   "cell_type": "code",
   "execution_count": 5,
   "metadata": {},
   "outputs": [
    {
     "name": "stdout",
     "output_type": "stream",
     "text": [
      "Best Params are\n",
      "ARIMA(0, 1, 1)x(0, 1, 1, 12)12 - AIC:251.0908756777686\n"
     ]
    }
   ],
   "source": [
    "# estimate params of SARIMA\n",
    "param_list = []\n",
    "param_seasonal_list = []\n",
    "aic_list = []\n",
    "\n",
    "for param in pdq:\n",
    "    for param_seasonal in seasonal_pdq:\n",
    "        try:\n",
    "            mod = sm.tsa.statespace.SARIMAX(y,order=param,seasonal_order=param_seasonal,enforce_stationarity=False,enforce_invertibility=False)\n",
    "            results = mod.fit()\n",
    "#             print('ARIMA{}x{}12 - AIC:{}'.format(param,param_seasonal,results.aic))\n",
    "            \n",
    "            # append to list\n",
    "            param_list.append(param)\n",
    "            param_seasonal_list.append(param_seasonal)\n",
    "            aic_list.append(results.aic)\n",
    "        except: \n",
    "            continue\n",
    "            \n",
    "# print out best params\n",
    "for index, value in enumerate(aic_list):\n",
    "    if value == np.min(aic_list):\n",
    "        print(\"Best Params are\")\n",
    "        print('ARIMA{}x{}12 - AIC:{}'.format(param_list[index],param_seasonal_list[index],aic_list[index]))\n",
    "        break;\n"
   ]
  },
  {
   "cell_type": "code",
   "execution_count": 6,
   "metadata": {},
   "outputs": [
    {
     "name": "stdout",
     "output_type": "stream",
     "text": [
      "                                     SARIMAX Results                                      \n",
      "==========================================================================================\n",
      "Dep. Variable:                          co2_level   No. Observations:                  132\n",
      "Model:             SARIMAX(0, 1, 1)x(0, 1, 1, 12)   Log Likelihood                -139.523\n",
      "Date:                            Sun, 06 Dec 2020   AIC                            287.047\n",
      "Time:                                    21:25:50   BIC                            298.163\n",
      "Sample:                                         0   HQIC                           291.561\n",
      "                                            - 132                                         \n",
      "Covariance Type:                              opg                                         \n",
      "==============================================================================\n",
      "                 coef    std err          z      P>|z|      [0.025      0.975]\n",
      "------------------------------------------------------------------------------\n",
      "intercept      0.0021      0.010      0.215      0.830      -0.017       0.022\n",
      "ma.L1         -0.5794      0.093     -6.260      0.000      -0.761      -0.398\n",
      "ma.S.L12      -0.8208      0.118     -6.927      0.000      -1.053      -0.589\n",
      "sigma2         0.5445      0.073      7.457      0.000       0.401       0.688\n",
      "===================================================================================\n",
      "Ljung-Box (L1) (Q):                   0.01   Jarque-Bera (JB):                 2.10\n",
      "Prob(Q):                              0.93   Prob(JB):                         0.35\n",
      "Heteroskedasticity (H):               1.04   Skew:                            -0.15\n",
      "Prob(H) (two-sided):                  0.91   Kurtosis:                         3.58\n",
      "===================================================================================\n",
      "\n",
      "Warnings:\n",
      "[1] Covariance matrix calculated using the outer product of gradients (complex-step).\n"
     ]
    }
   ],
   "source": [
    "# fit data with SARIMA model\n",
    "\n",
    "model=sm.tsa.statespace.SARIMAX(endog=y,order=(0,1,1),seasonal_order=(0,1,1,12),trend='c',enforce_invertibility=False)\n",
    "results=model.fit()\n",
    "\n",
    "print(results.summary())"
   ]
  }
 ],
 "metadata": {
  "kernelspec": {
   "display_name": "normal",
   "language": "python",
   "name": "normal"
  },
  "language_info": {
   "codemirror_mode": {
    "name": "ipython",
    "version": 3
   },
   "file_extension": ".py",
   "mimetype": "text/x-python",
   "name": "python",
   "nbconvert_exporter": "python",
   "pygments_lexer": "ipython3",
   "version": "3.8.5"
  }
 },
 "nbformat": 4,
 "nbformat_minor": 4
}
