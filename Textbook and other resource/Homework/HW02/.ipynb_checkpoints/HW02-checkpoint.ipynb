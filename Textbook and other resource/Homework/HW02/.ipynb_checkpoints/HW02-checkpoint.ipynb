{
 "cells": [
  {
   "cell_type": "markdown",
   "metadata": {},
   "source": [
    "# Time Series Analytics - HW 02\n",
    "#### 趙上涵 R08546036 國立臺灣大學 工業工程所碩士班"
   ]
  },
  {
   "cell_type": "code",
   "execution_count": 1,
   "metadata": {},
   "outputs": [],
   "source": [
    "# import packages needed\n",
    "from sklearn.linear_model import LinearRegression\n",
    "from statsmodels.tsa.holtwinters import ExponentialSmoothing as HWES\n",
    "import math\n",
    "import matplotlib.pyplot as plt\n",
    "import numpy as np\n",
    "import pandas as pd\n",
    "import random\n",
    "import warnings; warnings.simplefilter('ignore')"
   ]
  },
  {
   "cell_type": "markdown",
   "metadata": {},
   "source": [
    "# Q1"
   ]
  },
  {
   "cell_type": "markdown",
   "metadata": {},
   "source": [
    "# Answer\n",
    "#### 新產生的時間序列資料如下圖所示。\n",
    "#### (a) 在原先加入的資料點中，加入2倍平均為0，標準差為0.1的雜訊。\n",
    "#### (b) 根據觀察，所創造資料共有3個波峰（即重複3次），是故有每個season中油24/3=8個period。\\n Deseasonalized 後的 time series 如下方程式碼所示。\n",
    "#### (c) Seasonality Factor 經計算後如下方(c)區塊程式碼所示。\n",
    "#### (d) 經過計算(程式碼於下方)，Result of y=1~24: MSE: 0.5067 MAPE: 0.2695 %\n",
    "#### (e) 經過計算(程式碼於下方)，Result of y=25~30: MSE: 0.6489 ; MAPE: 0.4816 %\n",
    "#### (f) 經過計算(程式碼於下方)，消除雜訊後的資料，重新建立的static模型預測能力將會更佳，Result of y=1~24: MSE: 0.412 ; MAPE: 0.2362 %"
   ]
  },
  {
   "cell_type": "code",
   "execution_count": 2,
   "metadata": {},
   "outputs": [],
   "source": [
    "def simulator(time_list, thershold, noise):\n",
    "    random.seed(seed_value)\n",
    "    phi = random.uniform(0, 1.)\n",
    "    output_list = []\n",
    "    for index, time_unit in enumerate(time_list):\n",
    "        value = math.cos(2 * math.pi * ((time_unit / 6.5) + phi)) + (time_list[-1] - time_unit) * thershold\n",
    "        random_noise = random.gauss(0, 0.1) * noise\n",
    "        value += random_noise + 2\n",
    "        output_list.append(np.around(value, decimals=4))\n",
    "    return output_list"
   ]
  },
  {
   "cell_type": "code",
   "execution_count": 3,
   "metadata": {},
   "outputs": [
    {
     "data": {
      "image/png": "[encoded data removed]",
      "text/plain": [
       "<Figure size 432x288 with 1 Axes>"
      ]
     },
     "metadata": {
      "needs_background": "light"
     },
     "output_type": "display_data"
    }
   ],
   "source": [
    "''' Modify the time series data by add Gaussian noise '''\n",
    "seed_value = 100\n",
    "time_list = [(i/10 + 0.1) for i in range(240)]\n",
    "thershold = 0.06\n",
    "noise = 2\n",
    "\n",
    "output_list = simulator(time_list=time_list,\n",
    "                       thershold=thershold,\n",
    "                       noise=noise)\n",
    "\n",
    "# print(output_list, '\\n')\n",
    "\n",
    "plt.plot(time_list, output_list)\n",
    "plt.xlabel('period')\n",
    "plt.ylabel('value')\n",
    "plt.show()"
   ]
  },
  {
   "cell_type": "code",
   "execution_count": 4,
   "metadata": {},
   "outputs": [
    {
     "name": "stdout",
     "output_type": "stream",
     "text": [
      "Time series after being deseasonalized:\n",
      "      period  deseasonalized_value\n",
      "89        5              3.000244\n",
      "99        6              2.911775\n",
      "109       7              2.924381\n",
      "119       8              3.031956\n",
      "129       9              3.061913\n",
      "139      10              2.917788\n",
      "149      11              2.709581\n",
      "159      12              2.596631\n",
      "169      13              2.590856\n",
      "179      14              2.681019\n",
      "189      15              2.753425\n",
      "199      16              2.671456\n",
      "209      17              2.454587\n",
      "219      18              2.226587\n",
      "229      19              2.125387\n",
      "239      20              2.173687\n"
     ]
    }
   ],
   "source": [
    "''' (b) Deseasonalize the time series '''\n",
    "output_df = pd.DataFrame({\n",
    "    'period': time_list,\n",
    "    'value': output_list\n",
    "})\n",
    "\n",
    "# only include data with interger time.\n",
    "output_df = output_df[output_df['period'] % 1 == 0]\n",
    "\n",
    "# calculate D-Bar by deseasonalize the series twice. (cause period is an enven number.)\n",
    "output_df_rolled = output_df.loc[:, 'value'].rolling(8).mean().rolling(2).mean().dropna()\n",
    "\n",
    "output_df_rolled = pd.DataFrame({\n",
    "    'period': [i for i in range(int((len(output_df) - len(output_df_rolled))/2+1), \n",
    "                                 int((len(output_df) - len(output_df_rolled))/2+1+len(output_df_rolled)))],\n",
    "    'deseasonalized_value': output_df_rolled\n",
    "    \n",
    "})\n",
    "\n",
    "print('Time series after being deseasonalized:\\n', output_df_rolled)"
   ]
  },
  {
   "cell_type": "code",
   "execution_count": 5,
   "metadata": {},
   "outputs": [
    {
     "name": "stdout",
     "output_type": "stream",
     "text": [
      "Seasonality:\n",
      "    seasonality-bar  quater\n",
      "0         0.877185     1.0\n",
      "1         0.991902     2.0\n",
      "2         1.149264     3.0\n",
      "3         1.226496     4.0\n",
      "4         1.034052     5.0\n",
      "5         1.003439     6.0\n",
      "6         0.761914     7.0\n",
      "7         0.873124     8.0\n"
     ]
    }
   ],
   "source": [
    "''' (c) Calculate the seasonality factors (depending on how many periods in a season) '''\n",
    "\n",
    "# construct linear model with Label and Trend variable\n",
    "reg = LinearRegression().fit(np.asarray(output_df_rolled.loc[:, 'period']).reshape(-1, 1),\n",
    "                            output_df_rolled.loc[:, 'deseasonalized_value'])\n",
    "\n",
    "output_df_merged = output_df.merge(output_df_rolled, left_on='period', right_on='period', how='outer')\n",
    "\n",
    "# add quater variable in dataframe\n",
    "output_df_merged.loc[:, 'quater'] = (output_df_merged.loc[:, 'period'] % 8).replace(0, 8)\n",
    "\n",
    "# fill up NaN value\n",
    "values = pd.Series(reg.predict(np.asarray(output_df_merged.loc[:, 'period']).reshape(-1,1)))\n",
    "output_df_merged.loc[:, 'deseasonalized_value'] = values.where(output_df_merged.loc[:, 'deseasonalized_value'].isnull(),\n",
    "                                                                              other = output_df_merged.loc[:, 'deseasonalized_value'])\n",
    "# calculate seansonality factor\n",
    "output_df_merged.loc[:, 'seasonality'] = (output_df_merged.loc[:, 'value'] / output_df_merged.loc[:, 'deseasonalized_value'])\n",
    "\n",
    "output_df_merged_grouped = output_df_merged.groupby(['quater'], as_index=False).mean()\n",
    "output_df_merged_grouped.loc[:, 'seasonality-bar'] = output_df_merged_grouped.loc[:, 'seasonality']\n",
    "print('Seasonality:\\n', output_df_merged_grouped[['seasonality-bar', 'quater']])"
   ]
  },
  {
   "cell_type": "code",
   "execution_count": 6,
   "metadata": {},
   "outputs": [
    {
     "name": "stdout",
     "output_type": "stream",
     "text": [
      "Result of y=1~24: \n",
      "MSE: 0.5067 MAPE: 0.2695 %\n"
     ]
    }
   ],
   "source": [
    "''' (d) Finalize the model and evaluate the performance via MSE and MAPE. '''\n",
    "output_df_merged_total = output_df_merged.merge(output_df_merged_grouped[['seasonality-bar', 'quater']], left_on='quater', right_on='quater', how='inner').sort_values(by=['period'])\n",
    "output_df_merged_total.loc[:, 'predicted_value'] =  reg.predict(np.asarray(output_df_merged.loc[:, 'period']).reshape(-1,1)) * output_df_merged_total.loc[:, 'seasonality-bar']\n",
    "\n",
    "error = output_df_merged_total.loc[:, 'predicted_value'] - output_df_merged_total.loc[:, 'value']\n",
    "mse = np.around(np.sum(error ** 2) / len(output_df_merged), decimals=4)\n",
    "mape = np.around(np.sum(np.abs(error) / np.abs(output_df_merged_total.loc[:, 'value'])) / len(output_df_merged), decimals=4)\n",
    "\n",
    "print('Result of y=1~24: \\nMSE:', mse, 'MAPE:', mape, '%')\n",
    "\n",
    "# plt.plot(output_df_merged_total.loc[:, 'predicted_value'].tolist())\n",
    "# plt.show()"
   ]
  },
  {
   "cell_type": "code",
   "execution_count": 7,
   "metadata": {},
   "outputs": [
    {
     "name": "stdout",
     "output_type": "stream",
     "text": [
      "Result of y=25~30: \n",
      "MSE: 0.6489 ; MAPE: 0.4816 %\n"
     ]
    }
   ],
   "source": [
    "''' (e) Use the static model to predict 𝑦𝑡, 𝑡 = 25, … , 30. \n",
    "Use the “true” model to simulate 𝑦25, … , 𝑦30 and calculate the MSE and MAPE accordingly. '''\n",
    "seed_value = 100\n",
    "new_time_list = [(i + 25) for i in range(6)]\n",
    "thershold = 0.06\n",
    "noise = 2\n",
    "\n",
    "# value by simulator\n",
    "new_output_list = simulator(time_list=new_time_list,\n",
    "                       thershold=thershold,\n",
    "                           noise=noise)\n",
    "\n",
    "# new prediction list\n",
    "new_predict_list = list(reg.predict(np.asarray(new_time_list).reshape(-1, 1)))\n",
    "\n",
    "# create new dataframe\n",
    "output_new_df = pd.DataFrame({\n",
    "    'period': new_time_list,\n",
    "    'value': new_output_list,\n",
    "    'predicted_value': new_predict_list\n",
    "})\n",
    "\n",
    "\n",
    "error = output_new_df.loc[:, 'predicted_value'] - output_new_df.loc[:, 'value']\n",
    "mse = np.around(np.sum(error ** 2) / len(output_new_df), decimals=4)\n",
    "mape = np.around(np.sum(np.abs(error) / np.abs(output_new_df.loc[:, 'value'])) / len(output_new_df), decimals=4)\n",
    "\n",
    "\n",
    "print('Result of y=25~30: \\nMSE:', mse, '; MAPE:', mape, '%')"
   ]
  },
  {
   "cell_type": "code",
   "execution_count": 8,
   "metadata": {},
   "outputs": [
    {
     "data": {
      "image/png": "[encoded data removed]",
      "text/plain": [
       "<Figure size 432x288 with 1 Axes>"
      ]
     },
     "metadata": {
      "needs_background": "light"
     },
     "output_type": "display_data"
    },
    {
     "name": "stdout",
     "output_type": "stream",
     "text": [
      "【Summary when noise factor is eliminated:】\n",
      "\n",
      "Time series after being deseasonalized:\n",
      "      period  deseasonalized_value\n",
      "89        5              3.004106\n",
      "99        6              2.936563\n",
      "109       7              2.992931\n",
      "119       8              3.072681\n",
      "129       9              3.055087\n",
      "139      10              2.903519\n",
      "149      11              2.697075\n",
      "159      12              2.562269\n",
      "169      13              2.563725\n",
      "179      14              2.648350\n",
      "189      15              2.691206\n",
      "199      16              2.603444\n",
      "209      17              2.409044\n",
      "219      18              2.224106\n",
      "229      19              2.156562\n",
      "239      20              2.212931\n",
      "\n",
      "Seasonality:\n",
      "    seasonality-bar  quater\n",
      "0         0.858586     1.0\n",
      "1         1.001097     2.0\n",
      "2         1.159268     3.0\n",
      "3         1.189611     4.0\n",
      "4         1.095221     5.0\n",
      "5         0.921995     6.0\n",
      "6         0.822239     7.0\n",
      "7         0.886100     8.0\n",
      "\n",
      "Result of y=1~24: \n",
      "MSE: 0.412 ; MAPE: 0.2362 %\n"
     ]
    }
   ],
   "source": [
    "''' (f)  Modify the disturbance in (a) to change series (can be more or less fluctuating). Re-run the questions \n",
    "(b)-(d). What can you conclude when comparing to the results in (d) with the previous disturbance. . '''\n",
    "\n",
    "seed_value = 100\n",
    "time_list = [(i/10 + 0.1) for i in range(240)]\n",
    "thershold = 0.06\n",
    "noise = 0\n",
    "\n",
    "output_list = simulator(time_list=time_list,\n",
    "                       thershold=thershold,\n",
    "                       noise=noise)\n",
    "\n",
    "# print(output_list, '\\n')\n",
    "\n",
    "plt.plot(time_list, output_list)\n",
    "plt.xlabel('period')\n",
    "plt.ylabel('value')\n",
    "plt.show()\n",
    "\n",
    "output_df = pd.DataFrame({\n",
    "    'period': time_list,\n",
    "    'value': output_list\n",
    "})\n",
    "\n",
    "# only include data with interger time.\n",
    "output_df = output_df[output_df['period'] % 1 == 0]\n",
    "\n",
    "# calculate D-Bar by deseasonalize the series twice. (cause period is an enven number.)\n",
    "output_df_rolled = output_df.loc[:, 'value'].rolling(8).mean().rolling(2).mean().dropna()\n",
    "\n",
    "output_df_rolled = pd.DataFrame({\n",
    "    'period': [i for i in range(int((len(output_df) - len(output_df_rolled))/2+1), \n",
    "                                 int((len(output_df) - len(output_df_rolled))/2+1+len(output_df_rolled)))],\n",
    "    'deseasonalized_value': output_df_rolled\n",
    "    \n",
    "})\n",
    "\n",
    "print('【Summary when noise factor is eliminated:】')\n",
    "print('\\nTime series after being deseasonalized:\\n', output_df_rolled)\n",
    "\n",
    "# construct linear model with Label and Trend variable\n",
    "reg = LinearRegression().fit(np.asarray(output_df_rolled.loc[:, 'period']).reshape(-1, 1),\n",
    "                            output_df_rolled.loc[:, 'deseasonalized_value'])\n",
    "\n",
    "output_df_merged = output_df.merge(output_df_rolled, left_on='period', right_on='period', how='outer')\n",
    "\n",
    "# add quater variable in dataframe\n",
    "output_df_merged.loc[:, 'quater'] = (output_df_merged.loc[:, 'period'] % 8).replace(0, 8)\n",
    "\n",
    "# fill up NaN value\n",
    "values = pd.Series(reg.predict(np.asarray(output_df_merged.loc[:, 'period']).reshape(-1,1)))\n",
    "output_df_merged.loc[:, 'deseasonalized_value'] = values.where(output_df_merged.loc[:, 'deseasonalized_value'].isnull(),\n",
    "                                                                              other = output_df_merged.loc[:, 'deseasonalized_value'])\n",
    "# calculate seansonality factor\n",
    "output_df_merged.loc[:, 'seasonality'] = (output_df_merged.loc[:, 'value'] / output_df_merged.loc[:, 'deseasonalized_value'])\n",
    "\n",
    "output_df_merged_grouped = output_df_merged.groupby(['quater'], as_index=False).mean()\n",
    "output_df_merged_grouped.loc[:, 'seasonality-bar'] = output_df_merged_grouped.loc[:, 'seasonality']\n",
    "print('\\nSeasonality:\\n', output_df_merged_grouped[['seasonality-bar', 'quater']])\n",
    "\n",
    "output_df_merged_total = output_df_merged.merge(output_df_merged_grouped[['seasonality-bar', 'quater']], left_on='quater', right_on='quater', how='inner').sort_values(by=['period'])\n",
    "output_df_merged_total.loc[:, 'predicted_value'] =  reg.predict(np.asarray(output_df_merged.loc[:, 'period']).reshape(-1,1)) * output_df_merged_total.loc[:, 'seasonality-bar']\n",
    "\n",
    "error = output_df_merged_total.loc[:, 'predicted_value'] - output_df_merged_total.loc[:, 'value']\n",
    "mse = np.around(np.sum(error ** 2) / len(output_df_merged), decimals=4)\n",
    "mape = np.around(np.sum(np.abs(error) / np.abs(output_df_merged_total.loc[:, 'value'])) / len(output_df_merged), decimals=4)\n",
    "\n",
    "print('\\nResult of y=1~24: \\nMSE:', mse, '; MAPE:', mape, '%')"
   ]
  },
  {
   "cell_type": "markdown",
   "metadata": {},
   "source": [
    "# Q2\n",
    "Construct the Holt-Winter’s model (Triple Exponential Smoothing model) for the same data in 1-(a). \n",
    "Try to find the smoothing factors with better performance. Explain what you observe comparing with the \n",
    "results in 1-(d). "
   ]
  },
  {
   "cell_type": "markdown",
   "metadata": {},
   "source": [
    "# Answer\n",
    "#### 建立 Holt-Winter’s model 後，\n",
    "#### 可得 smoothing_level: 0.0526351，smoothing_slope: 0.0526351，smoothing_seasonal: 0.9473686 \n",
    "#### 及 Result of y=1～24: MSE: 0.0795 ; MAPE: 0.0273 % \n",
    "#### 和 static model 的 Result of y=1～24: MSE: 0.5067 MAPE: 0.2695 % \n",
    "#### 我們可以發現，在某些情況下，Holt-Winter’s model 的效果不見得比較好，\n",
    "#### 甚至在這個案例裡，Holt-Winter’s model 的 MSE 及 MAPE 是較為高的(較差)。"
   ]
  },
  {
   "cell_type": "code",
   "execution_count": 9,
   "metadata": {},
   "outputs": [
    {
     "data": {
      "image/png": "[encoded data removed]",
      "text/plain": [
       "<Figure size 432x288 with 1 Axes>"
      ]
     },
     "metadata": {
      "needs_background": "light"
     },
     "output_type": "display_data"
    }
   ],
   "source": [
    "'''Create the data again'''\n",
    "seed_value = 100\n",
    "time_list = [(i/10 + 0.1) for i in range(240)]\n",
    "thershold = 0.06\n",
    "noise = 2\n",
    "\n",
    "output_list = simulator(time_list=time_list,\n",
    "                       thershold=thershold,\n",
    "                       noise=noise)\n",
    "\n",
    "# print(output_list, '\\n')\n",
    "\n",
    "plt.plot(time_list, output_list)\n",
    "plt.xlabel('period')\n",
    "plt.ylabel('value')\n",
    "plt.show()\n",
    "\n",
    "output_df = pd.DataFrame({\n",
    "    'period': time_list,\n",
    "    'value': output_list\n",
    "})\n",
    "\n",
    "# only include data with interger time.\n",
    "output_df = output_df[output_df['period'] % 1 == 0]"
   ]
  },
  {
   "cell_type": "code",
   "execution_count": 10,
   "metadata": {},
   "outputs": [
    {
     "name": "stdout",
     "output_type": "stream",
     "text": [
      "                       ExponentialSmoothing Model Results                       \n",
      "================================================================================\n",
      "Dep. Variable:                    endog   No. Observations:                   24\n",
      "Model:             ExponentialSmoothing   SSE                             19.836\n",
      "Optimized:                         True   AIC                             19.426\n",
      "Trend:                         Additive   BIC                             33.563\n",
      "Seasonal:                Multiplicative   AICC                            66.093\n",
      "Seasonal Periods:                     8   Date:                 Sun, 27 Sep 2020\n",
      "Box-Cox:                          False   Time:                         17:37:31\n",
      "Box-Cox Coeff.:                    None                                         \n",
      "=================================================================================\n",
      "                          coeff                 code              optimized      \n",
      "---------------------------------------------------------------------------------\n",
      "smoothing_level               0.0526351                alpha                 True\n",
      "smoothing_slope               0.0526351                 beta                 True\n",
      "smoothing_seasonal            0.9473686                gamma                 True\n",
      "initial_level                 2.5726349                  l.0                 True\n",
      "initial_slope                 0.0100000                  b.0                 True\n",
      "initial_seasons.0             1.2014929                  s.0                 True\n",
      "initial_seasons.1             1.0078006                  s.1                 True\n",
      "initial_seasons.2             0.9692021                  s.2                 True\n",
      "initial_seasons.3             1.1431092                  s.3                 True\n",
      "initial_seasons.4             1.5037509                  s.4                 True\n",
      "initial_seasons.5             1.7009418                  s.5                 True\n",
      "initial_seasons.6             1.2048361                  s.6                 True\n",
      "initial_seasons.7             0.7683194                  s.7                 True\n",
      "---------------------------------------------------------------------------------\n",
      "\n",
      "Result of y=1~24: \n",
      "MSE: 0.0795 ; MAPE: 0.0273 %\n"
     ]
    }
   ],
   "source": [
    "# train the data with Holt-Winters algorithms with statsmodels module.\n",
    "model = HWES(output_df.loc[:, 'value'], seasonal_periods=8, trend='add', seasonal='mul')\n",
    "fitted = model.fit()\n",
    "print(fitted.summary())\n",
    "\n",
    "# caluclate mape\n",
    "output_df.loc[:, 'predicted_value'] = fitted.predict(start=1,\n",
    "              end=24)\n",
    "\n",
    "error = output_df.loc[:, 'predicted_value'] - output_df.loc[:, 'value']\n",
    "mse = np.around(np.sum(error ** 2) / len(output_df), decimals=4)\n",
    "mape = np.around(np.sum(np.abs(error) / np.abs(output_df.loc[:, 'value'])) / len(output_df), decimals=4)\n",
    "\n",
    "print('\\nResult of y=1~24: \\nMSE:', mse, '; MAPE:', mape, '%')"
   ]
  }
 ],
 "metadata": {
  "kernelspec": {
   "display_name": "Python 3",
   "language": "python",
   "name": "python3"
  },
  "language_info": {
   "codemirror_mode": {
    "name": "ipython",
    "version": 3
   },
   "file_extension": ".py",
   "mimetype": "text/x-python",
   "name": "python",
   "nbconvert_exporter": "python",
   "pygments_lexer": "ipython3",
   "version": "3.8.3"
  }
 },
 "nbformat": 4,
 "nbformat_minor": 4
}
